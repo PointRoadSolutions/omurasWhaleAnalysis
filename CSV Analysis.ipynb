{
 "cells": [
  {
   "cell_type": "code",
   "execution_count": 2,
   "metadata": {},
   "outputs": [],
   "source": [
    "#Nothin yet!\n",
    "import csv"
   ]
  },
  {
   "cell_type": "code",
   "execution_count": 22,
   "metadata": {
    "scrolled": true
   },
   "outputs": [
    {
     "name": "stdout",
     "output_type": "stream",
     "text": [
      "GoProVideoFiles\n",
      "GOPR1618.MP4\n",
      "GOPR1689.MP4\n"
     ]
    }
   ],
   "source": [
    "PATH = '/home/devynn/Madagascar/Madagascar2018/GoPro Photo Lineup.csv'\n",
    "\n",
    "csv_file = open(PATH)\n",
    "csv_reader = csv.reader(csv_file, delimiter =',')\n",
    "count = 0\n",
    "video_index = []\n",
    "collection = []\n",
    "for row in csv_reader:\n",
    "    if row[0] != '':\n",
    "        print(row[0])\n",
    "    if count >= 40:\n",
    "        break\n",
    "    count += 1"
   ]
  },
  {
   "cell_type": "code",
   "execution_count": null,
   "metadata": {},
   "outputs": [],
   "source": []
  },
  {
   "cell_type": "code",
   "execution_count": null,
   "metadata": {},
   "outputs": [],
   "source": []
  }
 ],
 "metadata": {
  "kernelspec": {
   "display_name": "Python 3",
   "language": "python",
   "name": "python3"
  },
  "language_info": {
   "codemirror_mode": {
    "name": "ipython",
    "version": 3
   },
   "file_extension": ".py",
   "mimetype": "text/x-python",
   "name": "python",
   "nbconvert_exporter": "python",
   "pygments_lexer": "ipython3",
   "version": "3.6.5"
  }
 },
 "nbformat": 4,
 "nbformat_minor": 2
}
