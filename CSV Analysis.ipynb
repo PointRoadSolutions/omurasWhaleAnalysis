{
 "cells": [
  {
   "cell_type": "code",
   "execution_count": 2,
   "metadata": {},
   "outputs": [],
   "source": [
    "#Nothin yet!\n",
    "import csv"
   ]
  },
  {
   "cell_type": "code",
   "execution_count": 24,
   "metadata": {
    "scrolled": true
   },
   "outputs": [],
   "source": [
    "def csvsweep(pathbegin = '/home/devynn/Madagascar/'):\n",
    "    \"\"\"Sweeps GoPro Photo Lineup.csv and returns dict of photo names + approximate locations of them in a given video\n",
    "    \n",
    "    Optional Inputs:\n",
    "    pathbegin: local path that leads to the /Madagascar2018 folder on dropbox\n",
    "        (If you aren't on devynn's ubuntu subsystem, you will probably want to input a value for pathbegin)\n",
    "        \n",
    "    Outputs:\n",
    "    videomapping: A dict containing keys of every GoPro image in the Madagascar2018 folders, whose values are lists containing,\n",
    "        in order: the gopro video where the gopro frame may be found, the approximate frame location of the photo,\n",
    "        and the folder in dropbox corresponding to the date the video was taken (e.g. 10-17, 10-20 etc.)\n",
    "        \n",
    "        Video name and video date are output as strings, approximate frame location is an int\n",
    "        \n",
    "    Videomapping is meant to feed in as inputs to Madagascar Image Processing functions\n",
    "    \"\"\"\n",
    "    \n",
    "    path = pathbegin + 'Madagascar2018/GoPro Photo Lineup.csv'\n",
    "    csv_file = open(path)\n",
    "    csv_reader = csv.reader(csv_file, delimiter =',')\n",
    "    videomapping = {}\n",
    "    for row in csv_reader:\n",
    "        if row[0] == 'GoProVideoFiles': # Skip first row of csv bc it only contains column labels\n",
    "            continue\n",
    "        elif row[0]:\n",
    "            videoname = row[0] # Grab video name\n",
    "            folder = '-'.join(row[3].split(' ')) # Grab file location\n",
    "        timesplit = row[2].split(':') # Split up \n",
    "        frame_approx = int(timesplit[0])*3600+int(timesplit[1])*60+int(timesplit[2])\n",
    "        videomapping[row[1]] = [videoname, frame_approx, folder]\n",
    "\n",
    "    return(videomapping)"
   ]
  },
  {
   "cell_type": "code",
   "execution_count": 31,
   "metadata": {
    "scrolled": true
   },
   "outputs": [],
   "source": [
    "videomapping = csvsweep()"
   ]
  },
  {
   "cell_type": "code",
   "execution_count": 33,
   "metadata": {},
   "outputs": [
    {
     "name": "stdout",
     "output_type": "stream",
     "text": [
      "['GOPR4141.MP4', 140, '10-26']\n"
     ]
    }
   ],
   "source": []
  },
  {
   "cell_type": "code",
   "execution_count": null,
   "metadata": {},
   "outputs": [],
   "source": []
  }
 ],
 "metadata": {
  "kernelspec": {
   "display_name": "Python 3",
   "language": "python",
   "name": "python3"
  },
  "language_info": {
   "codemirror_mode": {
    "name": "ipython",
    "version": 3
   },
   "file_extension": ".py",
   "mimetype": "text/x-python",
   "name": "python",
   "nbconvert_exporter": "python",
   "pygments_lexer": "ipython3",
   "version": "3.6.8"
  }
 },
 "nbformat": 4,
 "nbformat_minor": 2
}
